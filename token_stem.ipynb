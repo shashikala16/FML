{
  "nbformat": 4,
  "nbformat_minor": 0,
  "metadata": {
    "colab": {
      "provenance": [],
      "authorship_tag": "ABX9TyOJWgMSinTuC1DxsiiVvXoZ",
      "include_colab_link": true
    },
    "kernelspec": {
      "name": "python3",
      "display_name": "Python 3"
    },
    "language_info": {
      "name": "python"
    }
  },
  "cells": [
    {
      "cell_type": "markdown",
      "metadata": {
        "id": "view-in-github",
        "colab_type": "text"
      },
      "source": [
        "<a href=\"https://colab.research.google.com/github/shashikala16/FML/blob/main/token_stem.ipynb\" target=\"_parent\"><img src=\"https://colab.research.google.com/assets/colab-badge.svg\" alt=\"Open In Colab\"/></a>"
      ]
    },
    {
      "cell_type": "code",
      "execution_count": null,
      "metadata": {
        "colab": {
          "base_uri": "https://localhost:8080/"
        },
        "id": "Xa-tjLtbcQdL",
        "outputId": "5baf01ac-90a6-472b-d085-5a8dfd497d6c"
      },
      "outputs": [
        {
          "output_type": "stream",
          "name": "stdout",
          "text": [
            "['The', 'performance', 'of', 'the', 'K-means', 'clustering', 'algorithm', 'depends', 'upon', 'highly', 'efficient', 'clusters', 'that', 'it', 'forms.', 'But', 'choosing', 'the', 'optimal', 'number', 'of', 'clusters', 'is', 'a', 'big', 'task.', 'There', 'are', 'some', 'different', 'ways', 'to', 'find', 'the', 'optimal', 'number', 'of', 'clusters,', 'but', 'here', 'we', 'are', 'discussing', 'the', 'most', 'appropriate', 'method', 'to', 'find', 'the', 'number', 'of', 'clusters', 'or', 'value', 'of', 'K.', 'The', 'method', 'is', 'given', 'below']\n",
            "No. of tokens : 62\n"
          ]
        }
      ],
      "source": [
        "data='The performance of the K-means clustering algorithm depends upon highly efficient clusters that it forms. But choosing the optimal number of clusters is a big task. There are some different ways to find the optimal number of clusters, but here we are discussing the most appropriate method to find the number of clusters or value of K. The method is given below'\n",
        "\n",
        "token=data.split()\n",
        "print(token)\n",
        "print(\"No. of tokens :\",len(token))"
      ]
    },
    {
      "cell_type": "code",
      "source": [
        "data='The performance of the K-means clustering algorithm depends upon highly efficient clusters that it forms. But choosing the optimal number of clusters is a big task. There are some different ways to find the optimal number of clusters, but here we are discussing the most appropriate method to find the number of clusters or value of K. The method is given below'\n",
        "sent=data.split('.')\n",
        "\n",
        "print(sent)\n",
        "print(\"No. of sentences :\",len(sent))"
      ],
      "metadata": {
        "colab": {
          "base_uri": "https://localhost:8080/"
        },
        "id": "3FK9j-H1epdd",
        "outputId": "7dc35d42-19e3-4b2a-9a3d-5bfbcc6e0b50"
      },
      "execution_count": null,
      "outputs": [
        {
          "output_type": "stream",
          "name": "stdout",
          "text": [
            "['The performance of the K-means clustering algorithm depends upon highly efficient clusters that it forms', ' But choosing the optimal number of clusters is a big task', ' There are some different ways to find the optimal number of clusters, but here we are discussing the most appropriate method to find the number of clusters or value of K', ' The method is given below']\n",
            "No. of sentences : 4\n"
          ]
        }
      ]
    },
    {
      "cell_type": "code",
      "source": [
        "import re"
      ],
      "metadata": {
        "id": "SFkOJXiafjEi"
      },
      "execution_count": null,
      "outputs": []
    },
    {
      "cell_type": "code",
      "source": [
        "tokens = re.findall(\"[\\w']+\", data)  \n",
        "print(tokens)\n",
        "print(\"No.of tokens : \", len(tokens))"
      ],
      "metadata": {
        "colab": {
          "base_uri": "https://localhost:8080/"
        },
        "id": "Hqt3mhn9fohg",
        "outputId": "956d2b31-b72f-4cc5-ce05-eda7310c9a31"
      },
      "execution_count": null,
      "outputs": [
        {
          "output_type": "stream",
          "name": "stdout",
          "text": [
            "['The', 'performance', 'of', 'the', 'K', 'means', 'clustering', 'algorithm', 'depends', 'upon', 'highly', 'efficient', 'clusters', 'that', 'it', 'forms', 'But', 'choosing', 'the', 'optimal', 'number', 'of', 'clusters', 'is', 'a', 'big', 'task', 'There', 'are', 'some', 'different', 'ways', 'to', 'find', 'the', 'optimal', 'number', 'of', 'clusters', 'but', 'here', 'we', 'are', 'discussing', 'the', 'most', 'appropriate', 'method', 'to', 'find', 'the', 'number', 'of', 'clusters', 'or', 'value', 'of', 'K', 'The', 'method', 'is', 'given', 'below']\n",
            "No.of tokens :  63\n"
          ]
        }
      ]
    },
    {
      "cell_type": "code",
      "source": [
        "sentences = re.compile('[.?!] ').split(data)\n",
        "print(sentences)\n",
        "print(\"No.of sentences : \", len(sentences))"
      ],
      "metadata": {
        "colab": {
          "base_uri": "https://localhost:8080/"
        },
        "id": "uNnALKDCfu6R",
        "outputId": "1b64288d-b0c4-4f15-f6e6-2a6ec56f34c8"
      },
      "execution_count": null,
      "outputs": [
        {
          "output_type": "stream",
          "name": "stdout",
          "text": [
            "['The performance of the K-means clustering algorithm depends upon highly efficient clusters that it forms', 'But choosing the optimal number of clusters is a big task', 'There are some different ways to find the optimal number of clusters, but here we are discussing the most appropriate method to find the number of clusters or value of K', 'The method is given below']\n",
            "No.of sentences :  4\n"
          ]
        }
      ]
    },
    {
      "cell_type": "code",
      "source": [
        "!pip install --user -U nltk"
      ],
      "metadata": {
        "colab": {
          "base_uri": "https://localhost:8080/"
        },
        "id": "eQMkgycqf37g",
        "outputId": "d9b703a1-1170-4d28-a872-a0ba9595b220"
      },
      "execution_count": null,
      "outputs": [
        {
          "output_type": "stream",
          "name": "stdout",
          "text": [
            "Looking in indexes: https://pypi.org/simple, https://us-python.pkg.dev/colab-wheels/public/simple/\n",
            "Requirement already satisfied: nltk in /usr/local/lib/python3.10/dist-packages (3.8.1)\n",
            "Requirement already satisfied: click in /usr/local/lib/python3.10/dist-packages (from nltk) (8.1.3)\n",
            "Requirement already satisfied: joblib in /usr/local/lib/python3.10/dist-packages (from nltk) (1.2.0)\n",
            "Requirement already satisfied: regex>=2021.8.3 in /usr/local/lib/python3.10/dist-packages (from nltk) (2022.10.31)\n",
            "Requirement already satisfied: tqdm in /usr/local/lib/python3.10/dist-packages (from nltk) (4.65.0)\n"
          ]
        }
      ]
    },
    {
      "cell_type": "code",
      "source": [
        "import nltk\n",
        "nltk.download('punkt')"
      ],
      "metadata": {
        "colab": {
          "base_uri": "https://localhost:8080/"
        },
        "id": "kE4smtpvgEqh",
        "outputId": "c51fb623-bdfd-43d4-fa4d-8fd44efaeb9a"
      },
      "execution_count": null,
      "outputs": [
        {
          "output_type": "stream",
          "name": "stderr",
          "text": [
            "[nltk_data] Downloading package punkt to /root/nltk_data...\n",
            "[nltk_data]   Unzipping tokenizers/punkt.zip.\n"
          ]
        },
        {
          "output_type": "execute_result",
          "data": {
            "text/plain": [
              "True"
            ]
          },
          "metadata": {},
          "execution_count": 7
        }
      ]
    },
    {
      "cell_type": "code",
      "source": [
        "from nltk.tokenize import word_tokenize \n",
        "tokens = word_tokenize(data)\n",
        "print(tokens)\n",
        "print(\"No.of tokens : \", len(tokens))"
      ],
      "metadata": {
        "colab": {
          "base_uri": "https://localhost:8080/"
        },
        "id": "pRScSSgCgbQJ",
        "outputId": "c85c13bd-cd63-4ea5-d7ce-6eed3a570baa"
      },
      "execution_count": null,
      "outputs": [
        {
          "output_type": "stream",
          "name": "stdout",
          "text": [
            "['The', 'performance', 'of', 'the', 'K-means', 'clustering', 'algorithm', 'depends', 'upon', 'highly', 'efficient', 'clusters', 'that', 'it', 'forms', '.', 'But', 'choosing', 'the', 'optimal', 'number', 'of', 'clusters', 'is', 'a', 'big', 'task', '.', 'There', 'are', 'some', 'different', 'ways', 'to', 'find', 'the', 'optimal', 'number', 'of', 'clusters', ',', 'but', 'here', 'we', 'are', 'discussing', 'the', 'most', 'appropriate', 'method', 'to', 'find', 'the', 'number', 'of', 'clusters', 'or', 'value', 'of', 'K.', 'The', 'method', 'is', 'given', 'below']\n",
            "No.of tokens :  65\n"
          ]
        }
      ]
    },
    {
      "cell_type": "code",
      "source": [
        "from nltk.tokenize import sent_tokenize\n",
        "sentences = sent_tokenize(data)\n",
        "print(sentences)\n",
        "print(\"No.of sentences : \", len(sentences))"
      ],
      "metadata": {
        "colab": {
          "base_uri": "https://localhost:8080/"
        },
        "id": "U7wo7HlRp6-b",
        "outputId": "aade74e4-ea1a-4084-f2ac-41813f543259"
      },
      "execution_count": null,
      "outputs": [
        {
          "output_type": "stream",
          "name": "stdout",
          "text": [
            "['The performance of the K-means clustering algorithm depends upon highly efficient clusters that it forms.', 'But choosing the optimal number of clusters is a big task.', 'There are some different ways to find the optimal number of clusters, but here we are discussing the most appropriate method to find the number of clusters or value of K. The method is given below']\n",
            "No.of sentences :  3\n"
          ]
        }
      ]
    },
    {
      "cell_type": "code",
      "source": [
        "from nltk.stem import PorterStemmer"
      ],
      "metadata": {
        "id": "omAstQxQqCWB"
      },
      "execution_count": null,
      "outputs": []
    },
    {
      "cell_type": "code",
      "source": [
        "porter = PorterStemmer()\n",
        "print(porter.stem(\"dances\"))\n",
        "print(porter.stem(\"learning\"))"
      ],
      "metadata": {
        "colab": {
          "base_uri": "https://localhost:8080/"
        },
        "id": "oEvVhjLYqGQx",
        "outputId": "6c547380-f97c-49be-f0dd-ff0053155fbb"
      },
      "execution_count": null,
      "outputs": [
        {
          "output_type": "stream",
          "name": "stdout",
          "text": [
            "danc\n",
            "learn\n"
          ]
        }
      ]
    },
    {
      "cell_type": "code",
      "source": [
        "from nltk.stem import PorterStemmer\n",
        "porter = PorterStemmer()\n",
        "\n",
        "sentence=\"K-Means Clustering is an unsupervised learning algorithm that is used to solve the clustering problems in machine learning or data science. In this topic, we will learn what is K-means clustering algorithm, how the algorithm works, along with the Python implementation of k-means clustering.\"\n",
        "\n",
        "from nltk.tokenize import sent_tokenize, word_tokenize\n",
        "\n",
        "def stemSentence(sentence):\n",
        "    token_words=word_tokenize(sentence)\n",
        "    print(token_words)\n",
        "    stem_sentence=[]\n",
        "    for word in token_words:\n",
        "        stem_sentence.append(porter.stem(word))\n",
        "        stem_sentence.append(\" \")\n",
        "    return \"\".join(stem_sentence)\n",
        "\n",
        "x=stemSentence(sentence)\n",
        "print(\"Sentence after stemming :\", x)"
      ],
      "metadata": {
        "colab": {
          "base_uri": "https://localhost:8080/"
        },
        "id": "303dlynDqKIB",
        "outputId": "d36bc16f-df27-4ed0-a391-f7aed2e3f61d"
      },
      "execution_count": null,
      "outputs": [
        {
          "output_type": "stream",
          "name": "stdout",
          "text": [
            "['K-Means', 'Clustering', 'is', 'an', 'unsupervised', 'learning', 'algorithm', 'that', 'is', 'used', 'to', 'solve', 'the', 'clustering', 'problems', 'in', 'machine', 'learning', 'or', 'data', 'science', '.', 'In', 'this', 'topic', ',', 'we', 'will', 'learn', 'what', 'is', 'K-means', 'clustering', 'algorithm', ',', 'how', 'the', 'algorithm', 'works', ',', 'along', 'with', 'the', 'Python', 'implementation', 'of', 'k-means', 'clustering', '.']\n",
            "Sentence after stemming : k-mean cluster is an unsupervis learn algorithm that is use to solv the cluster problem in machin learn or data scienc . in thi topic , we will learn what is k-mean cluster algorithm , how the algorithm work , along with the python implement of k-mean cluster . \n"
          ]
        }
      ]
    },
    {
      "cell_type": "code",
      "source": [
        "import nltk\n",
        "nltk.download('wordnet')"
      ],
      "metadata": {
        "colab": {
          "base_uri": "https://localhost:8080/"
        },
        "id": "zTikZzJsq6q4",
        "outputId": "c7ad3ef2-1b39-4da9-861f-c938d475285e"
      },
      "execution_count": null,
      "outputs": [
        {
          "output_type": "stream",
          "name": "stderr",
          "text": [
            "[nltk_data] Downloading package wordnet to /root/nltk_data...\n"
          ]
        },
        {
          "output_type": "execute_result",
          "data": {
            "text/plain": [
              "True"
            ]
          },
          "metadata": {},
          "execution_count": 16
        }
      ]
    },
    {
      "cell_type": "code",
      "source": [
        "import nltk\n",
        "from nltk.stem import WordNetLemmatizer\n",
        "wordnet_lemmatizer = WordNetLemmatizer()\n",
        "\n",
        "sentence = \"In the given dataset, we have Customer_Id, Gender, Age, Annual Income ($), and Spending Score (which is the calculated value of how much a customer has spent in the mall, the more the value, the more he has spent). From this dataset, we need to calculate some patterns, as it is an unsupervised method, so we don't know what to calculate exactly.\"\n",
        "punctuations=\"?:!.,;\"\n",
        "token_words = nltk.word_tokenize(sentence)\n",
        "print(token_words)\n",
        "\n",
        "lemma_sentence=[]\n",
        "for word in token_words:\n",
        "  lemma_sentence.append(wordnet_lemmatizer.lemmatize(word))\n",
        "  lemma_sentence.append(\" \")\n",
        "\n",
        "print(\"lemmas of tokens: \", ''.join(lemma_sentence))\n"
      ],
      "metadata": {
        "colab": {
          "base_uri": "https://localhost:8080/"
        },
        "id": "HDsNmbcFqjax",
        "outputId": "f72b721d-9179-424b-dc20-b2abbba1e422"
      },
      "execution_count": null,
      "outputs": [
        {
          "output_type": "stream",
          "name": "stdout",
          "text": [
            "['In', 'the', 'given', 'dataset', ',', 'we', 'have', 'Customer_Id', ',', 'Gender', ',', 'Age', ',', 'Annual', 'Income', '(', '$', ')', ',', 'and', 'Spending', 'Score', '(', 'which', 'is', 'the', 'calculated', 'value', 'of', 'how', 'much', 'a', 'customer', 'has', 'spent', 'in', 'the', 'mall', ',', 'the', 'more', 'the', 'value', ',', 'the', 'more', 'he', 'has', 'spent', ')', '.', 'From', 'this', 'dataset', ',', 'we', 'need', 'to', 'calculate', 'some', 'patterns', ',', 'as', 'it', 'is', 'an', 'unsupervised', 'method', ',', 'so', 'we', 'do', \"n't\", 'know', 'what', 'to', 'calculate', 'exactly', '.']\n",
            "lemmas of tokens:  In the given dataset , we have Customer_Id , Gender , Age , Annual Income ( $ ) , and Spending Score ( which is the calculated value of how much a customer ha spent in the mall , the more the value , the more he ha spent ) . From this dataset , we need to calculate some pattern , a it is an unsupervised method , so we do n't know what to calculate exactly . \n"
          ]
        }
      ]
    },
    {
      "cell_type": "code",
      "source": [],
      "metadata": {
        "id": "ixUXf_7sq1iB"
      },
      "execution_count": null,
      "outputs": []
    }
  ]
}